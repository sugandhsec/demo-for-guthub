{
 "cells": [
  {
   "cell_type": "code",
   "execution_count": 1,
   "id": "f7f0a482",
   "metadata": {},
   "outputs": [
    {
     "name": "stdout",
     "output_type": "stream",
     "text": [
      "37\n"
     ]
    }
   ],
   "source": [
    "a=58+96-52&45|89-89//4>>2-45**3%4\n",
    "58+96-52&45|89-89//4>>2-91125%4\n",
    "58+96-52&45|89-22>>2-91125%4\n",
    "58+96-52&45|89-22>>2-1\n",
    "154-52&45|89-22>>2-1\n",
    "102&45|89-22>>2-1\n",
    "102&45|67>>2-1\n",
    "102&45|67>>1\n",
    "102&45|33\n",
    "36|33\n",
    "37\n",
    "print(a)"
   ]
  },
  {
   "cell_type": "code",
   "execution_count": 3,
   "id": "135e7456",
   "metadata": {},
   "outputs": [
    {
     "data": {
      "text/plain": [
       "False"
      ]
     },
     "execution_count": 3,
     "metadata": {},
     "output_type": "execute_result"
    }
   ],
   "source": [
    "45.32==45.32\n",
    "40.0+5.63==45.32"
   ]
  },
  {
   "cell_type": "code",
   "execution_count": null,
   "id": "296614ac",
   "metadata": {},
   "outputs": [],
   "source": [
    "# conditional statements\n",
    "# simple if\n",
    "# if else\n",
    "# if ....elif...elif....elif...elif...............else(ladder if else)\n",
    "# nested if else\n"
   ]
  },
  {
   "cell_type": "code",
   "execution_count": null,
   "id": "dda0e64f",
   "metadata": {},
   "outputs": [],
   "source": [
    "# simple if\n",
    "thrthtrh\n",
    "if condition:\n",
    "    thghh\n",
    "    rthrtht\n",
    "    ththth\n",
    "    ththth\n",
    "    ththth\n",
    "    hth\n",
    "rthrthrhrrhrhr"
   ]
  },
  {
   "cell_type": "code",
   "execution_count": 4,
   "id": "2da9e56d",
   "metadata": {},
   "outputs": [
    {
     "name": "stdout",
     "output_type": "stream",
     "text": [
      "Enter Age: 24\n",
      "You are adult\n",
      "this is inside if stetmenet\n",
      "I am not a part of if\n"
     ]
    }
   ],
   "source": [
    "age=int(input(\"Enter Age: \"))\n",
    "if age>18:\n",
    "    print(\"You are adult\")\n",
    "    print(\"this is inside if stetmenet\")\n",
    "\n",
    "print(\"I am not a part of if\")"
   ]
  },
  {
   "cell_type": "code",
   "execution_count": null,
   "id": "e8c12bc2",
   "metadata": {},
   "outputs": [],
   "source": [
    "# if else\n",
    "if condition:\n",
    "    rgrg\n",
    "    rgrg\n",
    "    grgr\n",
    "    rgrg\n",
    "else:\n",
    "    thgtg\n",
    "    tgtgt\n",
    "    gtgtg\n",
    "    gtg"
   ]
  },
  {
   "cell_type": "code",
   "execution_count": 6,
   "id": "6103152b",
   "metadata": {},
   "outputs": [
    {
     "name": "stdout",
     "output_type": "stream",
     "text": [
      "Enter Age: 12\n",
      "You are a child\n"
     ]
    }
   ],
   "source": [
    "age=int(input(\"Enter Age: \"))\n",
    "if age>18:\n",
    "    print(\"you are adult\")\n",
    "else:\n",
    "    print(\"You are a child\")"
   ]
  },
  {
   "cell_type": "code",
   "execution_count": null,
   "id": "6c6cce0b",
   "metadata": {},
   "outputs": [],
   "source": [
    "# ladder if else:\n",
    "if condition1:\n",
    "    bhbth\n",
    "    gth5thg5thg\n",
    "    hg4tg4g45\n",
    "elif condition2:\n",
    "    btbg4g4g45\n",
    "    g45g45g\n",
    "    45g45\n",
    "    g45\n",
    "    g45g\n",
    "elif condiytion3:\n",
    "    tgg55hy65hyg5\n",
    "    g5hg5hg5hg5\n",
    "    g5g5g\n",
    "else:\n",
    "    y5yh5ythbnrth\n",
    "    bthbrtrhrhtrt\n",
    "    hrthrththrt\n",
    "    rthrtht"
   ]
  },
  {
   "cell_type": "code",
   "execution_count": 8,
   "id": "6afd854a",
   "metadata": {},
   "outputs": [
    {
     "name": "stdout",
     "output_type": "stream",
     "text": [
      "Enter Your Age: 48\n",
      "Enter Your NAme: ergrg\n",
      "Enter Marks of Hindi: 48\n",
      "Enter Marks of English: 58\n",
      "Enter Marks of Gujrati: 96\n",
      "67.33333333333333\n",
      "C\n"
     ]
    }
   ],
   "source": [
    "age=int(input(\"Enter Your Age: \"))\n",
    "name=input(\"Enter Your NAme: \")\n",
    "m1=int(input(\"Enter Marks of Hindi: \"))\n",
    "m2=int(input(\"Enter Marks of English: \"))\n",
    "m3=int(input(\"Enter Marks of Gujrati: \"))\n",
    "total=m1+m2+m3\n",
    "percent=total/3\n",
    "print(f\"{percent}\")\n",
    "\n",
    "if percent>90 and percent<100:\n",
    "    print(\"A+\")\n",
    "elif percent>80 and percent<=90:\n",
    "    print(\"A1\")\n",
    "elif percent>70 and percent<=80:\n",
    "    print(\"B\")\n",
    "elif percent>60 and percent<=70:\n",
    "    print(\"C\")\n",
    "elif percent>50 and percent<=60:\n",
    "    print(\"D\")\n",
    "elif percent>33 and percent<=50:\n",
    "    print(\"E\")\n"
   ]
  },
  {
   "cell_type": "code",
   "execution_count": 10,
   "id": "ef57a30c",
   "metadata": {},
   "outputs": [
    {
     "name": "stdout",
     "output_type": "stream",
     "text": [
      "Enter number1: 59\n",
      "Enter number2: 65\n",
      "Enter number3: 84\n",
      "84 is greater\n"
     ]
    }
   ],
   "source": [
    "# nested if else\n",
    "a=int(input(\"Enter number1: \"))\n",
    "b=int(input(\"Enter number2: \"))\n",
    "c=int(input(\"Enter number3: \"))\n",
    "if a>b:\n",
    "    if a>c:\n",
    "        print(f\"{a} is greater\")\n",
    "    else:\n",
    "        print(f\"{c} is greater\")\n",
    "else:\n",
    "    if b>c:\n",
    "        print(f\"{b} is greater\")\n",
    "    else:\n",
    "        print(f\"{c} is greater\")    \n",
    "    \n",
    "    \n",
    "    \n",
    "\n"
   ]
  },
  {
   "cell_type": "code",
   "execution_count": 11,
   "id": "9fd68af6",
   "metadata": {},
   "outputs": [
    {
     "name": "stdout",
     "output_type": "stream",
     "text": [
      "Enter number1: 48\n",
      "Enter number2: 45\n",
      "Enter number3: 12\n",
      "Name: 48\t\tAge:45\t\tRollno: 12\n"
     ]
    }
   ],
   "source": [
    "# nested if else\n",
    "a=int(input(\"Enter number1: \"))\n",
    "b=int(input(\"Enter number2: \"))\n",
    "c=int(input(\"Enter number3: \"))\n",
    "print(f\"\"\"Name: {a}\\t\\tAge:{b}\\t\\tRollno: {c}\n",
    "\n",
    "\n",
    "\n",
    "\"\"\")"
   ]
  }
 ],
 "metadata": {
  "kernelspec": {
   "display_name": "Python 3 (ipykernel)",
   "language": "python",
   "name": "python3"
  },
  "language_info": {
   "codemirror_mode": {
    "name": "ipython",
    "version": 3
   },
   "file_extension": ".py",
   "mimetype": "text/x-python",
   "name": "python",
   "nbconvert_exporter": "python",
   "pygments_lexer": "ipython3",
   "version": "3.9.12"
  }
 },
 "nbformat": 4,
 "nbformat_minor": 5
}
